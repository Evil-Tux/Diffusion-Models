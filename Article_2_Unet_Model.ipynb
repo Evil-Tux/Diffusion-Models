{
  "cells": [
    {
      "cell_type": "markdown",
      "metadata": {
        "id": "view-in-github",
        "colab_type": "text"
      },
      "source": [
        "<a href=\"https://colab.research.google.com/github/Evil-Tux/Diffusion-Models/blob/main/Diffusion_Models_Two.ipynb\" target=\"_parent\"><img src=\"https://colab.research.google.com/assets/colab-badge.svg\" alt=\"Open In Colab\"/></a>"
      ]
    },
    {
      "cell_type": "code",
      "execution_count": null,
      "metadata": {
        "id": "VaACDB6dOkCV"
      },
      "outputs": [],
      "source": [
        "!pip install diffusers==0.16.1 accelerate open_clip_torch transformers"
      ]
    },
    {
      "cell_type": "code",
      "execution_count": null,
      "metadata": {
        "id": "BHBOr6azOz45"
      },
      "outputs": [],
      "source": [
        "import torch\n",
        "import torch.nn as nn\n",
        "from torch.utils.data import DataLoader\n",
        "\n",
        "import torchvision\n",
        "from torchvision.transforms import Compose, Resize, ToTensor, ToPILImage\n",
        "\n",
        "from diffusers import DDPMScheduler, DDIMScheduler, DDPMPipeline, DDIMPipeline\n",
        "\n",
        "from matplotlib import pyplot as plt\n",
        "from PIL import Image\n",
        "from tqdm import tqdm\n",
        "import numpy as np\n",
        "\n",
        "def plot_images(images, n=8, axs=None):\n",
        "    if axs is None:\n",
        "        fig, axs = plt.subplots(1, n, figsize=(10, 3))\n",
        "    assert len(axs) == len(images)\n",
        "    for i, img in enumerate(images):\n",
        "        axs[i].axis('off')\n",
        "        if isinstance(img, torch.Tensor):\n",
        "            img = ToPILImage()((img/2+0.5).clamp(0, 1))\n",
        "        axs[i].imshow(img.resize((64, 64), resample=Image.NEAREST), cmap='gray_r', vmin=0, vmax=255)"
      ]
    },
    {
      "cell_type": "markdown",
      "metadata": {
        "id": "29d006b1"
      },
      "source": [
        "## UNet - What Is It?\n",
        "\n",
        "UNet is a (neural) network shaped like the letter “U”.\n",
        "\n",
        "![](https://github.com/dvgodoy/DiffusionModels101_ODSC_Europe2023/blob/main/images/hf_unit1_unet.png?raw=true)\n",
        "Source: [Introduction to Diffusers - Unit 1 - HuggingFace's Diffusion Models class](https://github.com/huggingface/diffusion-models-class/blob/main/unit1/01_introduction_to_diffusers.ipynb)\n",
        "\n",
        "UNets, like the one depicted above, use a sequence of \"down blocks\" to reduce the dimensions of the input image (the encoder part), and then use a sequence of \"up blocks\" to bring the dimensions back to their full glory (the decoder part), while making residual connections between the two sequences. They were originally developed for image segmentation tasks, but they became a basic building block of diffusion models as well.\n",
        "\n",
        "The diffusers library offers an out-of-the-box fully configurable class called UNet2DModel that allows us to instantiate such a model that fits our needs. We will review the features this class has to offer below.\n",
        "\n",
        "Now, we can use the UNet2DModel class to instantiate a model:"
      ]
    },
    {
      "cell_type": "code",
      "execution_count": null,
      "metadata": {
        "id": "f8b2f09c"
      },
      "outputs": [],
      "source": [
        "from diffusers import UNet2DModel\n",
        "\n",
        "image_size = 32\n",
        "\n",
        "# Create a model\n",
        "model = UNet2DModel(\n",
        "    sample_size=image_size,  # the target image resolution\n",
        "    in_channels=1,           # the number of input channels\n",
        "    out_channels=1,          # the number of output channels\n",
        "    layers_per_block=2,      # how many ResNet layers to use per UNet block\n",
        "    block_out_channels=(64, 128, 128, 256),\n",
        "    down_block_types=(\n",
        "        \"DownBlock2D\",       # a regular ResNet downsampling block\n",
        "        \"DownBlock2D\",\n",
        "        \"AttnDownBlock2D\",   # a ResNet downsampling block with spatial self-attention\n",
        "        \"AttnDownBlock2D\",\n",
        "    ),\n",
        "    up_block_types=(\n",
        "        \"AttnUpBlock2D\",\n",
        "        \"AttnUpBlock2D\",     # a ResNet upsampling block with spatial self-attention\n",
        "        \"UpBlock2D\",\n",
        "        \"UpBlock2D\",         # a regular ResNet upsampling block\n",
        "    ),\n",
        ")"
      ]
    },
    {
      "cell_type": "markdown",
      "metadata": {
        "id": "b7e68171"
      },
      "source": [
        "How big is that?"
      ]
    },
    {
      "cell_type": "code",
      "execution_count": null,
      "metadata": {
        "id": "b15dd064"
      },
      "outputs": [],
      "source": [
        "model.num_parameters()/1e6"
      ]
    },
    {
      "cell_type": "markdown",
      "metadata": {
        "id": "ddb2a8e4"
      },
      "source": [
        "That's 18 million parameters, not so large, so it fits well our purpose here.\n",
        "\n",
        "We'll use this model, and the scheduler, to perform a sequence of steps that belong in the training loop:\n",
        "\n",
        "1. Fetch Clean Images\n",
        "2. Generate (Full) Noise\n",
        "3. Random Timesteps\n",
        "4. Add Noise to Clean Images\n",
        "5. Predict (Full) Noise from (Partially) Noisy Images\n",
        "6. Compute Loss\n",
        "\n",
        "First, let's create an optimizer for our model, and a loss function:"
      ]
    },
    {
      "cell_type": "code",
      "execution_count": null,
      "metadata": {
        "id": "89wvSqFsP51M"
      },
      "outputs": [],
      "source": [
        "#########\n",
        "## NEW ##\n",
        "#########\n",
        "noise_scheduler = DDPMScheduler(num_train_timesteps=1000)"
      ]
    },
    {
      "cell_type": "code",
      "execution_count": null,
      "metadata": {
        "id": "4068b21d"
      },
      "outputs": [],
      "source": [
        "device = 'cuda' if torch.cuda.is_available() else 'cpu'\n",
        "\n",
        "model.to(device)\n",
        "optimizer = torch.optim.AdamW(model.parameters(), lr=4e-4)\n",
        "loss_fn = nn.MSELoss()\n",
        "\n",
        "num_train_timesteps = noise_scheduler.config.num_train_timesteps"
      ]
    },
    {
      "cell_type": "markdown",
      "metadata": {
        "id": "7aefc0d6"
      },
      "source": [
        "### Step 1: Fetch Clean Images\n",
        "\n",
        "Nothing new here, let’s initiate the process by loading a batch of clean images from our data loader."
      ]
    },
    {
      "cell_type": "code",
      "execution_count": null,
      "metadata": {
        "id": "oph-_u-CQOtM"
      },
      "outputs": [],
      "source": [
        "#########\n",
        "## NEW ##\n",
        "#########\n",
        "composed = Compose([Resize(32), ToTensor()])\n",
        "dataset = torchvision.datasets.MNIST(root=\"mnist/\", train=True, download=True, transform=composed)\n",
        "train_dataloader = DataLoader(dataset, batch_size=64, shuffle=True)"
      ]
    },
    {
      "cell_type": "code",
      "execution_count": null,
      "metadata": {
        "id": "8bbfc683"
      },
      "outputs": [],
      "source": [
        "batch = next(iter(train_dataloader))\n",
        "clean_images = batch[0].to(device)\n",
        "plot_images(clean_images[:8])"
      ]
    },
    {
      "cell_type": "markdown",
      "metadata": {
        "id": "780e06bf"
      },
      "source": [
        "### Step 2: Generate (Full) Noise\n",
        "\n",
        "We've already done that as well: simply generating Gaussian noise in the same shape of our mini-batch of clean images."
      ]
    },
    {
      "cell_type": "code",
      "execution_count": null,
      "metadata": {
        "id": "e784d817"
      },
      "outputs": [],
      "source": [
        "noise = torch.randn_like(clean_images).to(device)\n",
        "plot_images(noise[:8])"
      ]
    },
    {
      "cell_type": "markdown",
      "metadata": {
        "id": "177a20e1"
      },
      "source": [
        "### Step 3: Random Timesteps\n",
        "\n",
        "We'd like our model to be able to handle different levels of noise added to the images, so it can perform well when we're in the reverse diffusion process predicting the image at the previous step.\n",
        "\n",
        "Therefore, we add different amounts of noise to each image in the mini-batch by randomly choosing timesteps."
      ]
    },
    {
      "cell_type": "code",
      "execution_count": null,
      "metadata": {
        "id": "d3d50b5b"
      },
      "outputs": [],
      "source": [
        "bs = clean_images.shape[0]\n",
        "t = torch.randint(0, num_train_timesteps, (bs,), device=device).long()\n",
        "t"
      ]
    },
    {
      "cell_type": "markdown",
      "metadata": {
        "id": "e08fd027"
      },
      "source": [
        "### Step 4: Add Noise to Clean Images\n",
        "\n",
        "Now that we have clean images, Gaussian noise, and timesteps, it's scheduler time!"
      ]
    },
    {
      "cell_type": "code",
      "execution_count": null,
      "metadata": {
        "id": "ce5c117b"
      },
      "outputs": [],
      "source": [
        "noisy_images = noise_scheduler.add_noise(clean_images, noise, t)\n",
        "plot_images(noisy_images[:8])"
      ]
    },
    {
      "cell_type": "markdown",
      "metadata": {
        "id": "e99af55c"
      },
      "source": [
        "### Step 5: Predict (Full) Noise from (Partially) Noisy Images\n",
        "\n",
        "The UNet model may return a dictionary or a tuple, so we need to unpack its predictions.\n",
        "\n",
        "Notice that the model is supposed to predict the FULL noise, even though we'll be later on trying to iteratively predict a slightly less noisier image one step at a time."
      ]
    },
    {
      "cell_type": "code",
      "execution_count": null,
      "metadata": {
        "id": "1ef3c95b"
      },
      "outputs": [],
      "source": [
        "noise_pred = model(noisy_images, t, return_dict=False)[0]\n",
        "plot_images(noise_pred[:8])"
      ]
    },
    {
      "cell_type": "markdown",
      "metadata": {
        "id": "f6a768be"
      },
      "source": [
        "An untrained model surely produces noise as predictions, but then again, our model is supposed to predict noise! So, how can we tell if it's doing a good job? That's what loss functions are for!"
      ]
    },
    {
      "cell_type": "markdown",
      "metadata": {
        "id": "93bcd275"
      },
      "source": [
        "### Step 6: Compute Loss\n",
        "\n",
        "It just computes the mean squared error (MSE) between the generated and the predicted noise."
      ]
    },
    {
      "cell_type": "code",
      "execution_count": null,
      "metadata": {
        "id": "eae3ef5c"
      },
      "outputs": [],
      "source": [
        "loss = loss_fn(noise_pred, noise)\n",
        "loss"
      ]
    },
    {
      "cell_type": "markdown",
      "metadata": {
        "id": "2ee9643c"
      },
      "source": [
        "There we go! We have all the diffusion-related steps (and the loss), so we're only missing the typical PyTorch training stuff (computing gradients, updating parameters, zeroing gradients) and we have ourselves a training loop."
      ]
    },
    {
      "cell_type": "markdown",
      "metadata": {
        "id": "1db1276c"
      },
      "source": [
        "### Training Loop"
      ]
    },
    {
      "cell_type": "markdown",
      "source": [
        "Training the UNet over 10 epochs in Google Colab may take 35 minutes or so. Therefore, as an alternative, we trained the model and uploaded the weights as a \"release\" in GitHub so you can download them. If you would like to move forward with the GitHub release, scroll ahead to the “Loading Trained Model” section.\n",
        "\n",
        "Below is the code for the training loop:"
      ],
      "metadata": {
        "id": "7nzfjDuG6dEv"
      }
    },
    {
      "cell_type": "code",
      "execution_count": null,
      "metadata": {
        "id": "1ee43eae"
      },
      "outputs": [],
      "source": [
        "losses = []\n",
        "\n",
        "for epoch in tqdm(range(3)):\n",
        "    for step, batch in enumerate(train_dataloader):\n",
        "        # Step 1: Fetch Clean Images\n",
        "        clean_images = batch[0].to(device)\n",
        "\n",
        "        # Step 2: Generate (Full) Noise\n",
        "        noise = torch.randn_like(clean_images).to(device)\n",
        "\n",
        "        # Step 3: Random Timesteps\n",
        "        bs = clean_images.shape[0]\n",
        "        t = torch.randint(0, num_train_timesteps, (bs,), device=device).long()\n",
        "\n",
        "        # Step 4: Add Noise to Clean Images\n",
        "        noisy_images = noise_scheduler.add_noise(clean_images, noise, t)\n",
        "\n",
        "        # Step 5: Predict (Full) Noise from (Partially) Noisy Images\n",
        "        noise_pred = model(noisy_images, t, return_dict=False)[0]\n",
        "\n",
        "        # Step 6: Compute Loss\n",
        "        loss = loss_fn(noise_pred, noise)\n",
        "\n",
        "        # Regular PyTorch training loop stuff\n",
        "        loss.backward(loss)\n",
        "        losses.append(loss.item())\n",
        "        optimizer.step()\n",
        "        optimizer.zero_grad()\n",
        "\n",
        "    if (epoch + 1) % 5 == 0:\n",
        "        loss_last_epoch = sum(losses[-len(train_dataloader) :]) / len(train_dataloader)\n",
        "        print(f\"Epoch:{epoch+1}, loss: {loss_last_epoch}\")"
      ]
    },
    {
      "cell_type": "code",
      "execution_count": null,
      "metadata": {
        "id": "25e3c85d"
      },
      "outputs": [],
      "source": [
        "fig, axs = plt.subplots(1, 2, figsize=(12, 4))\n",
        "axs[0].plot(losses)\n",
        "axs[1].plot(np.log(losses))\n",
        "plt.show()"
      ]
    },
    {
      "cell_type": "markdown",
      "metadata": {
        "id": "4144759a"
      },
      "source": [
        "If you train the model yourself, you should get plots for the losses like those below:"
      ]
    },
    {
      "cell_type": "markdown",
      "metadata": {
        "id": "9956ef70"
      },
      "source": [
        "![](https://github.com/dvgodoy/DiffusionModels101_ODSC_Europe2023/blob/main/images/diffusionhf_mnist_losses.png?raw=true)"
      ]
    },
    {
      "cell_type": "markdown",
      "metadata": {
        "id": "c7bc1da2"
      },
      "source": [
        "### Loading Trained Model"
      ]
    },
    {
      "cell_type": "markdown",
      "source": [
        "Should we add some introduction here?"
      ],
      "metadata": {
        "id": "XmkFgb5j67vP"
      }
    },
    {
      "cell_type": "code",
      "execution_count": null,
      "metadata": {
        "id": "8a8680fb"
      },
      "outputs": [],
      "source": [
        "url = 'https://github.com/dvgodoy/DiffusionModels101_ODSC_Europe2023/releases/download/pretrained/mnist_model.pth'\n",
        "state = torch.hub.load_state_dict_from_url(url, map_location=device)\n",
        "model.load_state_dict(state)"
      ]
    },
    {
      "cell_type": "markdown",
      "metadata": {
        "id": "92a1f34e"
      },
      "source": [
        "### Generating Images\n",
        "\n",
        "It is time to try to generate some MNIST (Modified National Institute of Standards and Technology) digits out of pure noise!\n",
        "\n",
        "Let's make some noise:"
      ]
    },
    {
      "cell_type": "code",
      "execution_count": null,
      "metadata": {
        "id": "858be74b"
      },
      "outputs": [],
      "source": [
        "torch.manual_seed(37)\n",
        "sample = torch.randn(8, 1, 32, 32)\n",
        "plot_images(sample)"
      ]
    },
    {
      "cell_type": "markdown",
      "metadata": {
        "id": "d864b168"
      },
      "source": [
        "Now, let's iteratively generate less and less noisier examples using our model to predict the noise (`epsilon`) and  the scheduler's `step()` method:"
      ]
    },
    {
      "cell_type": "code",
      "execution_count": null,
      "metadata": {
        "id": "148d5eb9"
      },
      "outputs": [],
      "source": [
        "noise_scheduler = DDPMScheduler(num_train_timesteps=1000, beta_schedule=\"squaredcos_cap_v2\")\n",
        "\n",
        "history = []\n",
        "\n",
        "sample = sample.to(device)\n",
        "\n",
        "for i, t in tqdm(enumerate(noise_scheduler.timesteps)):\n",
        "    with torch.no_grad():\n",
        "        epsilon = model(sample, t).sample\n",
        "\n",
        "    sample = noise_scheduler.step(epsilon, t, sample).prev_sample\n",
        "\n",
        "    if not (t % 200):\n",
        "        history.append(sample)"
      ]
    },
    {
      "cell_type": "markdown",
      "metadata": {
        "id": "4d41b106"
      },
      "source": [
        "In the plot below, we can check the progress after every 200 steps:"
      ]
    },
    {
      "cell_type": "code",
      "execution_count": null,
      "metadata": {
        "id": "816b5774"
      },
      "outputs": [],
      "source": [
        "fig, axs = plt.subplots(len(history), 8, figsize=(10, 5))\n",
        "for i, h in enumerate(history):\n",
        "    plot_images(h, axs=axs[i])"
      ]
    },
    {
      "cell_type": "markdown",
      "metadata": {
        "id": "a28085fb"
      },
      "source": [
        "That's really cool, right? I know, it's just MNIST, we're all kinda tired of that, but still, we started with noise and nothing else!\n",
        "\n",
        "Besides, we don't even need to write a generation loop..."
      ]
    },
    {
      "cell_type": "markdown",
      "metadata": {
        "id": "89119619"
      },
      "source": [
        "### DDPM Pipeline\n",
        "\n",
        "Hugging Face’s has pipelines to everything, and diffusion models are no exception. We can create a pipeline for denoising diffusion probabilistic models like ours (DDPMPipeline) using a trained model and the scheduler used for it, and the pipeline object does the rest:"
      ]
    },
    {
      "cell_type": "code",
      "execution_count": null,
      "metadata": {
        "id": "5ae5ae62"
      },
      "outputs": [],
      "source": [
        "from diffusers import DDPMPipeline\n",
        "\n",
        "image_pipe = DDPMPipeline(unet=model, scheduler=noise_scheduler)\n",
        "\n",
        "pipeline_output = image_pipe(batch_size=8)"
      ]
    },
    {
      "cell_type": "code",
      "execution_count": null,
      "metadata": {
        "id": "6def4406"
      },
      "outputs": [],
      "source": [
        "plot_images(pipeline_output.images)"
      ]
    },
    {
      "cell_type": "markdown",
      "metadata": {
        "id": "c3ec438f"
      },
      "source": [
        "Voilà! More MNIST digits!"
      ]
    },
    {
      "cell_type": "markdown",
      "metadata": {
        "id": "3ecb6545"
      },
      "source": [
        "### Denoising Diffusion Implicit Models (DDIM)\n",
        "\n",
        "Perhaps you noticed it took quite a while to generate those images. No wonder, the denoising process is performed 1,000 times! Fortunately, you do not necessarily have to go through EVERY individual step to successfully turn pure noise into a meaningful image.\n",
        "\n",
        "It was shown in the [Speeding Up Diffusion Sampling](https://minibatchai.com/diffusion/generative-models/text2image/sampling/2022/07/14/Diffusion_Sampling.html) paper that it is possible to take a shortcut and jump ahead, effectively skipping several steps at a time. For example, instead of 1,000 steps, we could use as few as 20-50 steps! The step numbers themselves, though, are unchaged - it looks like slicing a Python list."
      ]
    },
    {
      "cell_type": "code",
      "execution_count": null,
      "metadata": {
        "id": "8304d216"
      },
      "outputs": [],
      "source": [
        "torch.manual_seed(37)\n",
        "sample = torch.randn(8, 1, 32, 32)"
      ]
    },
    {
      "cell_type": "code",
      "execution_count": null,
      "metadata": {
        "id": "4fd9d1bb"
      },
      "outputs": [],
      "source": [
        "noise_scheduler = DDPMScheduler(num_train_timesteps=1000, beta_schedule=\"squaredcos_cap_v2\")\n",
        "noise_scheduler.timesteps[::50]"
      ]
    },
    {
      "cell_type": "markdown",
      "metadata": {
        "id": "f442e78e"
      },
      "source": [
        "### Mixing & Matching\n",
        "\n",
        "If you didn't buy into the idea of skipping several steps, let's try some mixing and matching ourselves to see if it works (spoiler alert: it does!).\n",
        "\n",
        "Let's modify the generation loop a little bit:\n",
        "- first, we slice the the timesteps array, so we're only taking every 50th step from it (resulting in 20 steps total).\n",
        "- for each step in the sliced list, we do not take the `prev_sample` from the scheduler anymore, but the predicted denoised image (`pred_original_sample`) instead.\n",
        "- then, we mix it with the sample from the previous iteration, using weights proportional to how far we moved in the denoising process, to get the new, updated, noisy sample to be used in the next iteration.\n",
        "\n",
        "Notice that we're mixing it linearly for the sake of simplicity, even though our scheduler is actually following a different rule (`squaredcos_cap_v2`).\n",
        "\n",
        "Let's see how it goes:"
      ]
    },
    {
      "cell_type": "code",
      "execution_count": null,
      "metadata": {
        "id": "9e7edd91"
      },
      "outputs": [],
      "source": [
        "history = []\n",
        "\n",
        "sample = sample.to(device)\n",
        "\n",
        "for i, t in tqdm(enumerate(noise_scheduler.timesteps[::50])):\n",
        "    with torch.no_grad():\n",
        "        epsilon = model(sample, t).sample\n",
        "\n",
        "    pred_x0 = noise_scheduler.step(epsilon, t, sample).pred_original_sample\n",
        "\n",
        "    mix_factor = 1 - t / noise_scheduler.config.num_train_timesteps\n",
        "    sample = sample * (1 - mix_factor) + pred_x0 * mix_factor\n",
        "\n",
        "    if not ((t+1) % 200):\n",
        "        history.append(sample)"
      ]
    },
    {
      "cell_type": "code",
      "execution_count": null,
      "metadata": {
        "id": "68343041"
      },
      "outputs": [],
      "source": [
        "fig, axs = plt.subplots(len(history), 8, figsize=(10, 5))\n",
        "for i, h in enumerate(history):\n",
        "    plot_images(h, axs=axs[i])"
      ]
    },
    {
      "cell_type": "markdown",
      "metadata": {
        "id": "b05833e3"
      },
      "source": [
        "Not bad, right? The digits seem a bit bold, but they are clearly recognizable as digits.\n",
        "\n",
        "Are you convinced? We hope so. Of course, we won't be mixing anything manually, we can simply use the appropriate scheduler and pipeline classes for that: `DDIMScheduler` and `DDIMPipeline`.\n",
        "\n",
        "We may even \"convert\" our former DDPM scheduler into a new DDIM scheduler by calling the `from_config()` method available to all schedulers:"
      ]
    },
    {
      "cell_type": "code",
      "execution_count": null,
      "metadata": {
        "id": "ff99af1f"
      },
      "outputs": [],
      "source": [
        "from diffusers import DDIMPipeline, DDIMScheduler\n",
        "\n",
        "new_scheduler = DDIMScheduler.from_config(noise_scheduler.config)\n",
        "new_image_pipe = DDIMPipeline(unet=model, scheduler=new_scheduler)"
      ]
    },
    {
      "cell_type": "markdown",
      "metadata": {
        "id": "4d57af8f"
      },
      "source": [
        "Let's put our new pipeline to the test:"
      ]
    },
    {
      "cell_type": "code",
      "execution_count": null,
      "metadata": {
        "id": "b2c6f731"
      },
      "outputs": [],
      "source": [
        "pipeline_output = new_image_pipe(batch_size=8, num_inference_steps=20)"
      ]
    },
    {
      "cell_type": "code",
      "execution_count": null,
      "metadata": {
        "colab": {
          "base_uri": "https://localhost:8080/",
          "height": 119
        },
        "id": "d3937b1f",
        "outputId": "f83d3315-6500-40a5-9181-7ebbf600aca8"
      },
      "outputs": [
        {
          "data": {
            "image/png": "[encoded data removed]",
            "text/plain": [
              "<Figure size 1000x300 with 8 Axes>"
            ]
          },
          "metadata": {},
          "output_type": "display_data"
        }
      ],
      "source": [
        "plot_images(pipeline_output.images)"
      ]
    },
    {
      "cell_type": "markdown",
      "metadata": {
        "id": "86735bf4"
      },
      "source": [
        "Hooray! That was much faster! Misson acomplished!\n",
        "\n",
        "We developed a UNET model to predict noise through loss functions and utilized diffusers classes to “skip” denoising steps for faster image generation. In the next post in the Diffusion Model series, we’ll fine tune a pretrained model, detailing step by step how to specialize it for a specific task."
      ]
    }
  ],
  "metadata": {
    "accelerator": "GPU",
    "colab": {
      "gpuType": "T4",
      "provenance": [],
      "include_colab_link": true
    },
    "kernelspec": {
      "display_name": "Python 3",
      "language": "python",
      "name": "python3"
    },
    "language_info": {
      "codemirror_mode": {
        "name": "ipython",
        "version": 3
      },
      "file_extension": ".py",
      "mimetype": "text/x-python",
      "name": "python",
      "nbconvert_exporter": "python",
      "pygments_lexer": "ipython3",
      "version": "3.7.4"
    }
  },
  "nbformat": 4,
  "nbformat_minor": 0
}
